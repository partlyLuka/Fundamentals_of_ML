{
 "cells": [
  {
   "cell_type": "code",
   "execution_count": 2,
   "metadata": {},
   "outputs": [
    {
     "data": {
      "text/plain": [
       "array([ 2.44948974,  4.28660705, -3.47439614])"
      ]
     },
     "execution_count": 2,
     "metadata": {},
     "output_type": "execute_result"
    },
    {
     "data": {
      "image/png": "[encoded data removed]",
      "text/plain": [
       "<Figure size 640x480 with 1 Axes>"
      ]
     },
     "metadata": {},
     "output_type": "display_data"
    }
   ],
   "source": [
    "#data preprocessing\n",
    "#standardizacija:\n",
    "#x' = (x - x.nean)/std\n",
    "import numpy as np\n",
    "X_train = np.array([[ 1., -1.,  2.],\n",
    "                    [ 2.,  0.,  0.],\n",
    "                    [ 0.,  1., -1.]])\n",
    "\n",
    "X_train.mean(axis=0)\n",
    "X_train.std(axis=0)\n",
    "from sklearn import preprocessing\n",
    "scaler = preprocessing.StandardScaler().fit(X_train)\n",
    "scaler.transform(X_train)\n",
    "X_train\n",
    "import matplotlib.pyplot as plt\n",
    "plt.hist(scaler.transform(X_train))\n",
    "x_test = np.array([[1,2,3],[5,5,-11]])\n",
    "scaler.transform(x_test).mean(axis=0)\n",
    "#scalar naredi standardizacijo na x_train, nato naredi \"slabo\" standardizacijo\n",
    "#na x_train(uporabi mean in std od x_train). Standardizacija je tako uniformna."
   ]
  }
 ],
 "metadata": {
  "kernelspec": {
   "display_name": "Python 3",
   "language": "python",
   "name": "python3"
  },
  "language_info": {
   "codemirror_mode": {
    "name": "ipython",
    "version": 3
   },
   "file_extension": ".py",
   "mimetype": "text/x-python",
   "name": "python",
   "nbconvert_exporter": "python",
   "pygments_lexer": "ipython3",
   "version": "3.10.11"
  },
  "orig_nbformat": 4
 },
 "nbformat": 4,
 "nbformat_minor": 2
}
