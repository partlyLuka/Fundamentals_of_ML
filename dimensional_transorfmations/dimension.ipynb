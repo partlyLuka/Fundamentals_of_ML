{
 "cells": [
  {
   "cell_type": "code",
   "execution_count": 1,
   "metadata": {},
   "outputs": [],
   "source": [
    "#pca in lda "
   ]
  },
  {
   "cell_type": "code",
   "execution_count": 2,
   "metadata": {},
   "outputs": [],
   "source": [
    "import numpy as np\n",
    "import matplotlib.pyplot as plt\n",
    "%matplotlib inline\n",
    "import pandas as pd\n",
    "import seaborn as sns\n",
    "sns.set()"
   ]
  },
  {
   "cell_type": "code",
   "execution_count": 3,
   "metadata": {},
   "outputs": [],
   "source": [
    "df = pd.read_csv(r\"data\\wine.csv\")\n",
    "y = df[\"class\"]\n",
    "\n",
    "X = df.drop([\"class\"], axis=1)\n"
   ]
  },
  {
   "cell_type": "code",
   "execution_count": 4,
   "metadata": {},
   "outputs": [
    {
     "ename": "ImportError",
     "evalue": "cannot import name 'S' from 'sklearn.model_selection' (C:\\Users\\informatika\\AppData\\Local\\Packages\\PythonSoftwareFoundation.Python.3.10_qbz5n2kfra8p0\\LocalCache\\local-packages\\Python310\\site-packages\\sklearn\\model_selection\\__init__.py)",
     "output_type": "error",
     "traceback": [
      "\u001b[1;31m---------------------------------------------------------------------------\u001b[0m",
      "\u001b[1;31mImportError\u001b[0m                               Traceback (most recent call last)",
      "Cell \u001b[1;32mIn[4], line 1\u001b[0m\n\u001b[1;32m----> 1\u001b[0m \u001b[39mfrom\u001b[39;00m \u001b[39msklearn\u001b[39;00m\u001b[39m.\u001b[39;00m\u001b[39mmodel_selection\u001b[39;00m \u001b[39mimport\u001b[39;00m S\n",
      "\u001b[1;31mImportError\u001b[0m: cannot import name 'S' from 'sklearn.model_selection' (C:\\Users\\informatika\\AppData\\Local\\Packages\\PythonSoftwareFoundation.Python.3.10_qbz5n2kfra8p0\\LocalCache\\local-packages\\Python310\\site-packages\\sklearn\\model_selection\\__init__.py)"
     ]
    }
   ],
   "source": [
    "from sklearn.model_selection import S"
   ]
  },
  {
   "cell_type": "code",
   "execution_count": null,
   "metadata": {},
   "outputs": [],
   "source": [
    "from sklearn.model_selection import train_test_split\n",
    "X_train, X_test, y_train, y_test = train_test_split(X, y, test_size=0.2,\n",
    "                                                    random_state=42)"
   ]
  },
  {
   "cell_type": "code",
   "execution_count": null,
   "metadata": {},
   "outputs": [],
   "source": [
    "from sklearn.preprocessing import StandardScaler\n",
    "sc = StandardScaler()\n",
    "sc.fit(X_train)\n",
    "X_train_sc = sc.transform(X_train)\n",
    "X_test_sc = sc.transform(X_test)"
   ]
  },
  {
   "cell_type": "code",
   "execution_count": null,
   "metadata": {},
   "outputs": [
    {
     "data": {
      "text/html": [
       "<style>#sk-container-id-3 {color: black;background-color: white;}#sk-container-id-3 pre{padding: 0;}#sk-container-id-3 div.sk-toggleable {background-color: white;}#sk-container-id-3 label.sk-toggleable__label {cursor: pointer;display: block;width: 100%;margin-bottom: 0;padding: 0.3em;box-sizing: border-box;text-align: center;}#sk-container-id-3 label.sk-toggleable__label-arrow:before {content: \"▸\";float: left;margin-right: 0.25em;color: #696969;}#sk-container-id-3 label.sk-toggleable__label-arrow:hover:before {color: black;}#sk-container-id-3 div.sk-estimator:hover label.sk-toggleable__label-arrow:before {color: black;}#sk-container-id-3 div.sk-toggleable__content {max-height: 0;max-width: 0;overflow: hidden;text-align: left;background-color: #f0f8ff;}#sk-container-id-3 div.sk-toggleable__content pre {margin: 0.2em;color: black;border-radius: 0.25em;background-color: #f0f8ff;}#sk-container-id-3 input.sk-toggleable__control:checked~div.sk-toggleable__content {max-height: 200px;max-width: 100%;overflow: auto;}#sk-container-id-3 input.sk-toggleable__control:checked~label.sk-toggleable__label-arrow:before {content: \"▾\";}#sk-container-id-3 div.sk-estimator input.sk-toggleable__control:checked~label.sk-toggleable__label {background-color: #d4ebff;}#sk-container-id-3 div.sk-label input.sk-toggleable__control:checked~label.sk-toggleable__label {background-color: #d4ebff;}#sk-container-id-3 input.sk-hidden--visually {border: 0;clip: rect(1px 1px 1px 1px);clip: rect(1px, 1px, 1px, 1px);height: 1px;margin: -1px;overflow: hidden;padding: 0;position: absolute;width: 1px;}#sk-container-id-3 div.sk-estimator {font-family: monospace;background-color: #f0f8ff;border: 1px dotted black;border-radius: 0.25em;box-sizing: border-box;margin-bottom: 0.5em;}#sk-container-id-3 div.sk-estimator:hover {background-color: #d4ebff;}#sk-container-id-3 div.sk-parallel-item::after {content: \"\";width: 100%;border-bottom: 1px solid gray;flex-grow: 1;}#sk-container-id-3 div.sk-label:hover label.sk-toggleable__label {background-color: #d4ebff;}#sk-container-id-3 div.sk-serial::before {content: \"\";position: absolute;border-left: 1px solid gray;box-sizing: border-box;top: 0;bottom: 0;left: 50%;z-index: 0;}#sk-container-id-3 div.sk-serial {display: flex;flex-direction: column;align-items: center;background-color: white;padding-right: 0.2em;padding-left: 0.2em;position: relative;}#sk-container-id-3 div.sk-item {position: relative;z-index: 1;}#sk-container-id-3 div.sk-parallel {display: flex;align-items: stretch;justify-content: center;background-color: white;position: relative;}#sk-container-id-3 div.sk-item::before, #sk-container-id-3 div.sk-parallel-item::before {content: \"\";position: absolute;border-left: 1px solid gray;box-sizing: border-box;top: 0;bottom: 0;left: 50%;z-index: -1;}#sk-container-id-3 div.sk-parallel-item {display: flex;flex-direction: column;z-index: 1;position: relative;background-color: white;}#sk-container-id-3 div.sk-parallel-item:first-child::after {align-self: flex-end;width: 50%;}#sk-container-id-3 div.sk-parallel-item:last-child::after {align-self: flex-start;width: 50%;}#sk-container-id-3 div.sk-parallel-item:only-child::after {width: 0;}#sk-container-id-3 div.sk-dashed-wrapped {border: 1px dashed gray;margin: 0 0.4em 0.5em 0.4em;box-sizing: border-box;padding-bottom: 0.4em;background-color: white;}#sk-container-id-3 div.sk-label label {font-family: monospace;font-weight: bold;display: inline-block;line-height: 1.2em;}#sk-container-id-3 div.sk-label-container {text-align: center;}#sk-container-id-3 div.sk-container {/* jupyter's `normalize.less` sets `[hidden] { display: none; }` but bootstrap.min.css set `[hidden] { display: none !important; }` so we also need the `!important` here to be able to override the default hidden behavior on the sphinx rendered scikit-learn.org. See: https://github.com/scikit-learn/scikit-learn/issues/21755 */display: inline-block !important;position: relative;}#sk-container-id-3 div.sk-text-repr-fallback {display: none;}</style><div id=\"sk-container-id-3\" class=\"sk-top-container\"><div class=\"sk-text-repr-fallback\"><pre>PCA(n_components=2)</pre><b>In a Jupyter environment, please rerun this cell to show the HTML representation or trust the notebook. <br />On GitHub, the HTML representation is unable to render, please try loading this page with nbviewer.org.</b></div><div class=\"sk-container\" hidden><div class=\"sk-item\"><div class=\"sk-estimator sk-toggleable\"><input class=\"sk-toggleable__control sk-hidden--visually\" id=\"sk-estimator-id-3\" type=\"checkbox\" checked><label for=\"sk-estimator-id-3\" class=\"sk-toggleable__label sk-toggleable__label-arrow\">PCA</label><div class=\"sk-toggleable__content\"><pre>PCA(n_components=2)</pre></div></div></div></div></div>"
      ],
      "text/plain": [
       "PCA(n_components=2)"
      ]
     },
     "execution_count": 17,
     "metadata": {},
     "output_type": "execute_result"
    }
   ],
   "source": [
    "from sklearn.decomposition import PCA\n",
    "pca = PCA(n_components=2)\n",
    "pca.fit(X_train_sc)"
   ]
  },
  {
   "cell_type": "code",
   "execution_count": null,
   "metadata": {},
   "outputs": [
    {
     "data": {
      "text/plain": [
       "array([0.35900066, 0.18691934])"
      ]
     },
     "execution_count": 18,
     "metadata": {},
     "output_type": "execute_result"
    }
   ],
   "source": [
    "pca.explained_variance_ratio_"
   ]
  },
  {
   "cell_type": "code",
   "execution_count": null,
   "metadata": {},
   "outputs": [
    {
     "data": {
      "text/html": [
       "<div>\n",
       "<style scoped>\n",
       "    .dataframe tbody tr th:only-of-type {\n",
       "        vertical-align: middle;\n",
       "    }\n",
       "\n",
       "    .dataframe tbody tr th {\n",
       "        vertical-align: top;\n",
       "    }\n",
       "\n",
       "    .dataframe thead th {\n",
       "        text-align: right;\n",
       "    }\n",
       "</style>\n",
       "<table border=\"1\" class=\"dataframe\">\n",
       "  <thead>\n",
       "    <tr style=\"text-align: right;\">\n",
       "      <th></th>\n",
       "      <th>0</th>\n",
       "      <th>1</th>\n",
       "    </tr>\n",
       "  </thead>\n",
       "  <tbody>\n",
       "    <tr>\n",
       "      <th>Alcohol</th>\n",
       "      <td>0.128</td>\n",
       "      <td>-0.493</td>\n",
       "    </tr>\n",
       "    <tr>\n",
       "      <th>Malic acid</th>\n",
       "      <td>-0.256</td>\n",
       "      <td>-0.190</td>\n",
       "    </tr>\n",
       "    <tr>\n",
       "      <th>Ash</th>\n",
       "      <td>-0.022</td>\n",
       "      <td>-0.317</td>\n",
       "    </tr>\n",
       "    <tr>\n",
       "      <th>Alcalinity of ash</th>\n",
       "      <td>-0.244</td>\n",
       "      <td>0.035</td>\n",
       "    </tr>\n",
       "    <tr>\n",
       "      <th>Magnesium</th>\n",
       "      <td>0.148</td>\n",
       "      <td>-0.262</td>\n",
       "    </tr>\n",
       "    <tr>\n",
       "      <th>Total phenols</th>\n",
       "      <td>0.385</td>\n",
       "      <td>-0.096</td>\n",
       "    </tr>\n",
       "    <tr>\n",
       "      <th>Flavanoids</th>\n",
       "      <td>0.420</td>\n",
       "      <td>-0.015</td>\n",
       "    </tr>\n",
       "    <tr>\n",
       "      <th>Nonflavanoid phenols</th>\n",
       "      <td>-0.299</td>\n",
       "      <td>-0.076</td>\n",
       "    </tr>\n",
       "    <tr>\n",
       "      <th>Proanthocyanins</th>\n",
       "      <td>0.308</td>\n",
       "      <td>-0.074</td>\n",
       "    </tr>\n",
       "    <tr>\n",
       "      <th>Color intensity</th>\n",
       "      <td>-0.119</td>\n",
       "      <td>-0.534</td>\n",
       "    </tr>\n",
       "    <tr>\n",
       "      <th>Hue</th>\n",
       "      <td>0.299</td>\n",
       "      <td>0.281</td>\n",
       "    </tr>\n",
       "    <tr>\n",
       "      <th>OD280/OD315 of diluted wines</th>\n",
       "      <td>0.384</td>\n",
       "      <td>0.143</td>\n",
       "    </tr>\n",
       "    <tr>\n",
       "      <th>Proline</th>\n",
       "      <td>0.276</td>\n",
       "      <td>-0.381</td>\n",
       "    </tr>\n",
       "  </tbody>\n",
       "</table>\n",
       "</div>"
      ],
      "text/plain": [
       "                                  0      1\n",
       " Alcohol                      0.128 -0.493\n",
       " Malic acid                  -0.256 -0.190\n",
       " Ash                         -0.022 -0.317\n",
       " Alcalinity of ash           -0.244  0.035\n",
       " Magnesium                    0.148 -0.262\n",
       " Total phenols                0.385 -0.096\n",
       " Flavanoids                   0.420 -0.015\n",
       " Nonflavanoid phenols        -0.299 -0.076\n",
       " Proanthocyanins              0.308 -0.074\n",
       "Color intensity              -0.119 -0.534\n",
       "Hue                           0.299  0.281\n",
       "OD280/OD315 of diluted wines  0.384  0.143\n",
       "Proline                       0.276 -0.381"
      ]
     },
     "execution_count": 22,
     "metadata": {},
     "output_type": "execute_result"
    }
   ],
   "source": [
    "pd.DataFrame(np.round(pca.components_, 3), columns=X.columns).T"
   ]
  },
  {
   "cell_type": "code",
   "execution_count": null,
   "metadata": {},
   "outputs": [
    {
     "name": "stderr",
     "output_type": "stream",
     "text": [
      "C:\\Users\\informatika\\AppData\\Local\\Packages\\PythonSoftwareFoundation.Python.3.10_qbz5n2kfra8p0\\LocalCache\\local-packages\\Python310\\site-packages\\sklearn\\base.py:432: UserWarning: X has feature names, but PCA was fitted without feature names\n",
      "  warnings.warn(\n"
     ]
    },
    {
     "data": {
      "text/plain": [
       "array([[ 193.44785081, -291.58197249,  -73.67380862, ...,  333.31936612,\n",
       "         -61.52310111,   27.9611366 ],\n",
       "       [ 151.65367377, -231.10143116,  -51.80226106, ...,  263.73237221,\n",
       "         -49.73172032,   23.98128129],\n",
       "       [ 196.09833625, -283.15357698,  -76.63384549, ...,  329.56455841,\n",
       "         -66.1174946 ,   28.35690872],\n",
       "       ...,\n",
       "       [ 444.44360121, -627.85854801, -206.716647  , ...,  753.42757184,\n",
       "        -159.00620759,   54.44776831],\n",
       "       [ 146.66850043, -217.51200376,  -52.90835723, ...,  250.3668883 ,\n",
       "         -49.62949433,   22.523972  ],\n",
       "       [ 134.43342321, -200.37159583,  -42.53315318, ...,  224.19685439,\n",
       "         -42.04152481,   21.77873545]])"
      ]
     },
     "execution_count": 38,
     "metadata": {},
     "output_type": "execute_result"
    }
   ],
   "source": [
    "pca = PCA(n_components=None)\n",
    "pca.fit(X_train_sc)\n",
    "pca.transform(X_train)"
   ]
  },
  {
   "cell_type": "code",
   "execution_count": null,
   "metadata": {},
   "outputs": [
    {
     "name": "stderr",
     "output_type": "stream",
     "text": [
      "C:\\Users\\informatika\\AppData\\Local\\Packages\\PythonSoftwareFoundation.Python.3.10_qbz5n2kfra8p0\\LocalCache\\local-packages\\Python310\\site-packages\\sklearn\\base.py:432: UserWarning: X has feature names, but PCA was fitted without feature names\n",
      "  warnings.warn(\n"
     ]
    },
    {
     "data": {
      "text/plain": [
       "13"
      ]
     },
     "execution_count": 39,
     "metadata": {},
     "output_type": "execute_result"
    }
   ],
   "source": [
    "len(X_train.values[0, :])\n",
    "len(pca.transform(X_train)[0, :])"
   ]
  },
  {
   "cell_type": "code",
   "execution_count": null,
   "metadata": {},
   "outputs": [
    {
     "data": {
      "text/plain": [
       "<Axes: >"
      ]
     },
     "execution_count": 56,
     "metadata": {},
     "output_type": "execute_result"
    },
    {
     "data": {
      "image/png": "[encoded data removed]",
      "text/plain": [
       "<Figure size 640x480 with 1 Axes>"
      ]
     },
     "metadata": {},
     "output_type": "display_data"
    }
   ],
   "source": [
    "d = pd.DataFrame(np.round(pca.components_, 3), columns=X.columns)\n",
    "pd.DataFrame(pca.explained_variance_ratio_).plot.bar()"
   ]
  },
  {
   "cell_type": "code",
   "execution_count": null,
   "metadata": {},
   "outputs": [
    {
     "data": {
      "text/plain": [
       "[<matplotlib.lines.Line2D at 0x1f745558940>]"
      ]
     },
     "execution_count": 58,
     "metadata": {},
     "output_type": "execute_result"
    },
    {
     "data": {
      "image/png": "[encoded data removed]",
      "text/plain": [
       "<Figure size 640x480 with 1 Axes>"
      ]
     },
     "metadata": {},
     "output_type": "display_data"
    }
   ],
   "source": [
    "plt.plot(np.cumsum(pca.explained_variance_ratio_))"
   ]
  },
  {
   "cell_type": "code",
   "execution_count": null,
   "metadata": {},
   "outputs": [
    {
     "data": {
      "text/plain": [
       "array([[-1.16602698e+00, -3.61532732e+00,  1.15128454e+00],\n",
       "       [-3.86261156e+00, -4.82177461e-01,  1.72758428e+00],\n",
       "       [ 2.28353786e+00,  1.27503318e+00, -1.31676575e-01],\n",
       "       [-1.67850727e+00, -2.49696152e+00,  5.56618524e-01],\n",
       "       [ 1.57284216e+00,  6.88203487e-01, -1.41794489e+00],\n",
       "       [ 2.02555486e-01,  2.22577338e+00, -3.98618759e-01],\n",
       "       [ 8.83338617e-01,  2.00469937e+00, -2.92836715e-01],\n",
       "       [-7.15050214e-01,  2.02557575e-01, -8.09915744e-01],\n",
       "       [-2.31535447e+00, -3.50467442e-01, -1.36667942e-01],\n",
       "       [ 2.48181734e+00, -1.19480758e+00,  1.00430735e+00],\n",
       "       [ 9.27003335e-01,  2.36914720e+00, -1.53605856e+00],\n",
       "       [-1.10503027e+00,  7.91750104e-01,  3.01762192e+00],\n",
       "       [-2.64179811e+00, -3.73566993e-01, -1.31266082e+00],\n",
       "       [ 2.82856352e+00, -9.08533324e-01,  2.36827368e-02],\n",
       "       [ 4.68714502e-01,  2.12468019e+00, -2.39187193e+00],\n",
       "       [ 2.70840181e+00, -1.53490440e+00, -5.69043448e-01],\n",
       "       [ 1.78020693e+00, -8.47127661e-01, -6.30285142e-03],\n",
       "       [-2.75483138e+00, -2.13895379e+00, -9.04129773e-01],\n",
       "       [-3.00838158e+00, -2.84596615e-01, -9.41280560e-01],\n",
       "       [ 5.08790176e-01,  2.03246235e+00, -3.90714200e-01],\n",
       "       [ 1.36844583e+00,  7.60471135e-01, -1.40902111e+00],\n",
       "       [ 1.38621221e+00, -7.05661067e-01,  4.00474923e-01],\n",
       "       [ 8.27658568e-01,  2.30685810e+00,  2.31966651e-01],\n",
       "       [ 2.56156818e+00, -3.30885610e-02, -2.20326889e-01],\n",
       "       [-4.19073741e+00, -4.09150784e-01, -1.34816263e+00],\n",
       "       [ 1.12473644e+00,  2.47440627e+00, -9.98058503e-01],\n",
       "       [ 2.10180811e+00,  1.53564514e+00, -1.55960892e+00],\n",
       "       [-2.90299543e+00, -1.15818973e+00, -1.18670083e+00],\n",
       "       [ 1.77260388e+00, -7.19023575e-01, -1.19615761e+00],\n",
       "       [ 2.43519160e+00, -1.35830485e+00, -8.69296708e-01],\n",
       "       [ 1.30044907e+00, -9.28133056e-05, -1.38194092e+00],\n",
       "       [-2.14330370e+00, -9.48267910e-01, -1.33213182e+00],\n",
       "       [ 1.00421026e+00, -8.63327591e-01,  1.94994989e+00],\n",
       "       [ 1.66202235e+00, -1.82914011e-01, -1.55987223e-01],\n",
       "       [ 2.61270687e+00, -1.34848027e-01,  4.28327767e-01],\n",
       "       [-3.09704066e+00,  4.27896405e-01, -9.09779254e-01],\n",
       "       [-7.24397718e-01,  2.50767351e+00, -1.61163959e+00],\n",
       "       [ 3.44636056e+00, -1.46834254e+00, -4.01083073e-01],\n",
       "       [-3.53726857e+00, -1.12435086e+00, -2.58145414e-02],\n",
       "       [-4.05055628e-01,  6.98860858e-01,  7.76521145e-01],\n",
       "       [ 3.29052658e+00, -1.55323615e+00, -1.59635984e-01],\n",
       "       [-2.91308706e+00, -3.26764990e-01,  8.65733271e-01],\n",
       "       [ 1.05113993e-01,  1.18261205e+00,  7.90885913e-01],\n",
       "       [-5.08228967e-01,  1.95790611e+00,  5.35933093e-01],\n",
       "       [ 2.13247901e+00, -3.92521643e-02, -5.81330518e-01],\n",
       "       [-4.49043848e-01,  6.48598382e-01,  9.05038909e-01],\n",
       "       [ 2.16475565e+00, -7.96961837e-01,  1.39669872e+00],\n",
       "       [ 2.57046508e+00, -9.12184491e-01, -5.19024374e-02],\n",
       "       [-1.50749642e+00,  1.19821926e+00,  3.25076791e+00],\n",
       "       [ 9.87692643e-01, -9.46463696e-01,  3.61789883e+00],\n",
       "       [ 1.68802069e+00,  4.27215042e-01,  1.54927768e-01],\n",
       "       [-2.84777868e+00, -2.71645957e-02, -3.62271305e-01],\n",
       "       [ 1.10060564e+00,  1.38203842e+00, -3.06406490e-01],\n",
       "       [ 4.30878099e-01,  1.03338250e+00,  1.87989191e+00],\n",
       "       [ 9.03142842e-01,  1.41967048e+00,  5.41148178e-01],\n",
       "       [ 2.48689977e+00, -1.76551708e+00, -2.26217163e-01],\n",
       "       [-4.00898959e-01,  2.30943207e+00, -1.51840149e+00],\n",
       "       [-6.87346990e-01,  2.23912043e+00,  6.65173138e-01],\n",
       "       [ 8.15347989e-01,  1.35581642e+00,  1.18134068e+00],\n",
       "       [-3.34836805e+00, -2.05408300e+00, -2.27313176e-01],\n",
       "       [-2.77032209e+00, -4.45253947e-01,  7.31123177e-01],\n",
       "       [ 2.80544229e+00, -7.93183090e-01, -1.02602545e+00],\n",
       "       [ 1.03099610e+00,  2.26823233e+00,  1.40751708e-01],\n",
       "       [-2.96941978e+00, -3.40024468e-01, -1.10272908e+00],\n",
       "       [-2.43375778e+00, -2.41949286e+00,  3.18808602e-01],\n",
       "       [-1.72786570e+00,  8.51720601e-01, -1.63468024e+00],\n",
       "       [ 2.57908813e+00, -1.80215930e-01,  3.06494488e+00],\n",
       "       [ 1.89973596e+00, -1.71592534e+00,  1.02660081e+00],\n",
       "       [ 9.25278260e-03,  2.06858698e+00,  5.61636224e-01],\n",
       "       [-2.07426459e+00, -7.68503568e-02, -6.13908655e-01],\n",
       "       [-2.30773674e+00, -1.93316553e-01,  1.16393262e+00],\n",
       "       [ 1.27430394e-01,  1.27101461e+00, -1.77847141e+00],\n",
       "       [-2.35607602e+00, -2.19982768e+00, -6.92674197e-01],\n",
       "       [-1.22036999e+00,  7.82758776e-01,  1.90684615e+00],\n",
       "       [ 6.11226184e-01,  3.73518709e+00,  1.32721419e+00],\n",
       "       [-1.63489451e+00,  1.66572324e+00,  1.05991615e+00],\n",
       "       [ 2.19264941e+00, -2.00738930e+00,  2.95551294e-01],\n",
       "       [ 3.00038015e+00, -2.31449587e+00, -5.94073913e-01],\n",
       "       [-3.09577090e+00, -6.47770187e-01, -2.11665354e-02],\n",
       "       [ 3.66522677e+00, -2.95291205e+00, -9.41913814e-02],\n",
       "       [-3.46694351e+00, -7.39677717e-01, -3.99848233e-01],\n",
       "       [ 2.65530009e+00, -1.91878551e+00, -5.83972221e-01],\n",
       "       [ 1.91153824e+00, -2.58881582e-01,  4.81987165e-01],\n",
       "       [ 8.80580554e-01,  3.31949145e+00, -3.25918036e-01],\n",
       "       [-1.31259029e+00,  1.51041283e+00, -3.01107020e-01],\n",
       "       [ 1.42950261e+00, -7.22113155e-01,  3.76903974e-01],\n",
       "       [ 2.69326770e+00, -1.31006602e+00, -3.31648161e-01],\n",
       "       [ 2.05974786e+00, -1.64690543e+00,  9.70848999e-02],\n",
       "       [ 1.01602724e+00,  1.41274809e+00,  1.70496468e+00],\n",
       "       [ 4.94529690e-01, -3.05487677e-01, -5.26070900e-02],\n",
       "       [-1.42904508e+00,  9.67106600e-01, -8.44815820e-01],\n",
       "       [-3.80263045e+00,  1.64034481e-02,  1.93065198e-01],\n",
       "       [ 1.49422419e+00,  1.37752984e+00,  2.21801256e-01],\n",
       "       [-1.44509962e+00,  1.82882670e+00,  7.19148683e-01],\n",
       "       [-2.45918642e+00,  1.01915240e-01,  5.76030465e-01],\n",
       "       [-2.89294853e+00, -1.83725082e+00, -6.60273532e-01],\n",
       "       [-2.19398553e+00, -1.04665186e+00, -1.72883140e-01],\n",
       "       [-4.26253963e-01,  2.55339942e+00,  8.87310042e-01],\n",
       "       [ 2.49459238e+00, -1.08788634e+00, -1.63856341e+00],\n",
       "       [ 3.39994883e+00, -1.46650790e+00, -9.97566427e-01],\n",
       "       [-7.29569470e-01,  3.09672162e+00, -4.55087913e+00],\n",
       "       [-1.81079917e+00, -1.31157691e+00,  1.09120711e+00],\n",
       "       [-2.30700776e+00, -1.22995981e-01, -8.66673931e-01],\n",
       "       [ 1.86673154e+00, -1.73372518e+00,  7.27078492e-01],\n",
       "       [-6.43084664e-01,  1.13352963e+00,  6.17138351e-02],\n",
       "       [-3.56559699e+00, -1.70447838e+00, -4.22571532e-04],\n",
       "       [-2.27026843e+00,  3.81369380e-01, -1.12023412e+00],\n",
       "       [-2.78306210e+00, -1.47891368e+00, -4.58738879e-01],\n",
       "       [-2.50910253e+00, -5.20285144e-01, -9.57399300e-01],\n",
       "       [ 2.07688409e+00,  1.82458867e+00,  6.82090170e-02],\n",
       "       [ 2.15668189e+00, -1.04636442e+00, -9.80268436e-01],\n",
       "       [-1.50365569e+00,  1.34001409e+00,  2.74443366e-01],\n",
       "       [ 3.19428880e+00, -3.79327914e-01, -1.85369271e+00],\n",
       "       [-2.66343491e+00, -2.55924011e+00, -1.01385616e+00],\n",
       "       [ 3.08479808e+00, -1.87474342e+00, -2.77058479e-01],\n",
       "       [ 1.97956473e+00, -1.37276768e+00, -3.14939454e-02],\n",
       "       [-9.93530904e-01,  1.75813286e+00,  9.41235668e-01],\n",
       "       [ 1.09378499e+00, -2.19550326e-01,  1.00760508e+00],\n",
       "       [ 2.14723517e+00, -1.34405533e+00,  2.70254051e-01],\n",
       "       [-2.47664460e+00, -2.13340923e+00, -9.08375916e-01],\n",
       "       [-1.68748020e+00,  1.20539948e+00,  9.02518700e-01],\n",
       "       [ 1.15499645e+00, -1.72855285e-01, -1.08604790e-01],\n",
       "       [-3.33513419e+00, -1.24791283e+00,  1.48179043e+00],\n",
       "       [-2.18364122e+00, -1.94283021e+00,  5.98404989e-01],\n",
       "       [ 2.25755049e+00,  2.11240924e-01, -1.90304471e+00],\n",
       "       [ 3.44464527e+00, -1.82365216e+00, -3.94559994e-01],\n",
       "       [-2.87744244e+00, -1.78237088e+00, -5.88313219e-01],\n",
       "       [-1.22826301e+00,  5.29355309e-02, -1.47202102e+00],\n",
       "       [-2.55059599e+00, -1.79532345e+00, -4.73012133e-01],\n",
       "       [-5.13437852e-01,  2.65522142e+00, -7.24987845e-01],\n",
       "       [ 1.46565577e+00,  2.01753074e+00,  9.09498129e-01],\n",
       "       [-1.01391102e-01,  2.80469849e+00, -2.89288974e-01],\n",
       "       [-4.48901143e-01,  2.38357288e+00,  2.18358631e+00],\n",
       "       [ 1.89259063e+00,  1.25433206e+00,  3.62737436e-01],\n",
       "       [ 1.31453161e+00, -2.85535972e-01,  5.26300134e+00],\n",
       "       [-3.23921545e+00, -2.65565810e+00,  1.03861452e+00],\n",
       "       [ 3.10637705e+00, -8.51594632e-01, -3.44217556e-01],\n",
       "       [ 1.64667685e+00,  9.20965605e-01,  1.95556562e+00],\n",
       "       [-2.48324102e-01,  2.10847343e+00, -4.01127411e-01],\n",
       "       [ 4.22339048e+00, -2.40345929e+00, -1.13704654e+00],\n",
       "       [-1.80527275e+00,  1.49091985e+00, -8.99114191e-02],\n",
       "       [-7.80869860e-02,  1.19327925e+00,  1.04439979e+00]])"
      ]
     },
     "execution_count": 68,
     "metadata": {},
     "output_type": "execute_result"
    }
   ],
   "source": [
    "pca = PCA(n_components=3)\n",
    "pca.fit(X_train_sc)\n",
    "res = pca.transform(X_train_sc)\n",
    "#pd.DataFrame(res, columns=X.columns).T\n",
    "pca.components_\n",
    "pca.transform(X_train_sc)"
   ]
  },
  {
   "cell_type": "code",
   "execution_count": null,
   "metadata": {},
   "outputs": [
    {
     "data": {
      "text/plain": [
       "array([[-7.07106781e-01, -5.55111512e-17],\n",
       "       [ 7.07106781e-01,  5.55111512e-17]])"
      ]
     },
     "execution_count": 82,
     "metadata": {},
     "output_type": "execute_result"
    }
   ],
   "source": [
    "data = np.array([[1,0],\n",
    "                 [0,1]])\n",
    "p = PCA(n_components=2)\n",
    "p.fit(data)\n",
    "p.components_\n",
    "p.transform(data)"
   ]
  },
  {
   "cell_type": "code",
   "execution_count": 22,
   "metadata": {},
   "outputs": [
    {
     "data": {
      "text/html": [
       "<div>\n",
       "<style scoped>\n",
       "    .dataframe tbody tr th:only-of-type {\n",
       "        vertical-align: middle;\n",
       "    }\n",
       "\n",
       "    .dataframe tbody tr th {\n",
       "        vertical-align: top;\n",
       "    }\n",
       "\n",
       "    .dataframe thead th {\n",
       "        text-align: right;\n",
       "    }\n",
       "</style>\n",
       "<table border=\"1\" class=\"dataframe\">\n",
       "  <thead>\n",
       "    <tr style=\"text-align: right;\">\n",
       "      <th></th>\n",
       "      <th>sepal_length</th>\n",
       "      <th>sepal_width</th>\n",
       "      <th>petal_length</th>\n",
       "      <th>petal_width</th>\n",
       "      <th>species</th>\n",
       "    </tr>\n",
       "  </thead>\n",
       "  <tbody>\n",
       "    <tr>\n",
       "      <th>0</th>\n",
       "      <td>5.1</td>\n",
       "      <td>3.5</td>\n",
       "      <td>1.4</td>\n",
       "      <td>0.2</td>\n",
       "      <td>setosa</td>\n",
       "    </tr>\n",
       "    <tr>\n",
       "      <th>1</th>\n",
       "      <td>4.9</td>\n",
       "      <td>3.0</td>\n",
       "      <td>1.4</td>\n",
       "      <td>0.2</td>\n",
       "      <td>setosa</td>\n",
       "    </tr>\n",
       "    <tr>\n",
       "      <th>2</th>\n",
       "      <td>4.7</td>\n",
       "      <td>3.2</td>\n",
       "      <td>1.3</td>\n",
       "      <td>0.2</td>\n",
       "      <td>setosa</td>\n",
       "    </tr>\n",
       "    <tr>\n",
       "      <th>3</th>\n",
       "      <td>4.6</td>\n",
       "      <td>3.1</td>\n",
       "      <td>1.5</td>\n",
       "      <td>0.2</td>\n",
       "      <td>setosa</td>\n",
       "    </tr>\n",
       "    <tr>\n",
       "      <th>4</th>\n",
       "      <td>5.0</td>\n",
       "      <td>3.6</td>\n",
       "      <td>1.4</td>\n",
       "      <td>0.2</td>\n",
       "      <td>setosa</td>\n",
       "    </tr>\n",
       "    <tr>\n",
       "      <th>...</th>\n",
       "      <td>...</td>\n",
       "      <td>...</td>\n",
       "      <td>...</td>\n",
       "      <td>...</td>\n",
       "      <td>...</td>\n",
       "    </tr>\n",
       "    <tr>\n",
       "      <th>145</th>\n",
       "      <td>6.7</td>\n",
       "      <td>3.0</td>\n",
       "      <td>5.2</td>\n",
       "      <td>2.3</td>\n",
       "      <td>virginica</td>\n",
       "    </tr>\n",
       "    <tr>\n",
       "      <th>146</th>\n",
       "      <td>6.3</td>\n",
       "      <td>2.5</td>\n",
       "      <td>5.0</td>\n",
       "      <td>1.9</td>\n",
       "      <td>virginica</td>\n",
       "    </tr>\n",
       "    <tr>\n",
       "      <th>147</th>\n",
       "      <td>6.5</td>\n",
       "      <td>3.0</td>\n",
       "      <td>5.2</td>\n",
       "      <td>2.0</td>\n",
       "      <td>virginica</td>\n",
       "    </tr>\n",
       "    <tr>\n",
       "      <th>148</th>\n",
       "      <td>6.2</td>\n",
       "      <td>3.4</td>\n",
       "      <td>5.4</td>\n",
       "      <td>2.3</td>\n",
       "      <td>virginica</td>\n",
       "    </tr>\n",
       "    <tr>\n",
       "      <th>149</th>\n",
       "      <td>5.9</td>\n",
       "      <td>3.0</td>\n",
       "      <td>5.1</td>\n",
       "      <td>1.8</td>\n",
       "      <td>virginica</td>\n",
       "    </tr>\n",
       "  </tbody>\n",
       "</table>\n",
       "<p>150 rows × 5 columns</p>\n",
       "</div>"
      ],
      "text/plain": [
       "     sepal_length  sepal_width  petal_length  petal_width    species\n",
       "0             5.1          3.5           1.4          0.2     setosa\n",
       "1             4.9          3.0           1.4          0.2     setosa\n",
       "2             4.7          3.2           1.3          0.2     setosa\n",
       "3             4.6          3.1           1.5          0.2     setosa\n",
       "4             5.0          3.6           1.4          0.2     setosa\n",
       "..            ...          ...           ...          ...        ...\n",
       "145           6.7          3.0           5.2          2.3  virginica\n",
       "146           6.3          2.5           5.0          1.9  virginica\n",
       "147           6.5          3.0           5.2          2.0  virginica\n",
       "148           6.2          3.4           5.4          2.3  virginica\n",
       "149           5.9          3.0           5.1          1.8  virginica\n",
       "\n",
       "[150 rows x 5 columns]"
      ]
     },
     "execution_count": 22,
     "metadata": {},
     "output_type": "execute_result"
    }
   ],
   "source": [
    "df = sns.load_dataset('iris')\n",
    "df"
   ]
  },
  {
   "cell_type": "code",
   "execution_count": 23,
   "metadata": {},
   "outputs": [],
   "source": [
    "col = ['petal_length', 'petal_width']\n",
    "X = df.drop([\"species\"], axis=1)\n",
    "species_to_num = {'versicolor': 0,\n",
    "                  'virginica': 1,\n",
    "                  \"setosa\" : 2}\n",
    "df['tmp'] = df['species'].map(species_to_num)\n",
    "y = df['tmp']"
   ]
  },
  {
   "cell_type": "code",
   "execution_count": null,
   "metadata": {},
   "outputs": [],
   "source": []
  },
  {
   "cell_type": "code",
   "execution_count": null,
   "metadata": {},
   "outputs": [],
   "source": [
    "from sklearn.linear_model import LogisticRegression"
   ]
  },
  {
   "cell_type": "code",
   "execution_count": null,
   "metadata": {},
   "outputs": [],
   "source": [
    "from sklearn.decomposition import KernelPCA\n",
    "kpca = KernelPCA(kernel=\"rbf\", n_components=2)\n",
    "X_kpca = kpca.fit_transform(X)\n"
   ]
  },
  {
   "cell_type": "code",
   "execution_count": null,
   "metadata": {},
   "outputs": [
    {
     "data": {
      "text/plain": [
       "<matplotlib.collections.PathCollection at 0x29ed70303d0>"
      ]
     },
     "execution_count": 16,
     "metadata": {},
     "output_type": "execute_result"
    },
    {
     "data": {
      "image/png": "[encoded data removed]",
      "text/plain": [
       "<Figure size 700x700 with 1 Axes>"
      ]
     },
     "metadata": {},
     "output_type": "display_data"
    }
   ],
   "source": [
    "clf = LogisticRegression()\n",
    "X.values[:, 0]\n",
    "plt.figure(figsize=(7,7))\n",
    "plt.scatter(X.values[:, 0], X.values[:, 1])"
   ]
  },
  {
   "cell_type": "code",
   "execution_count": null,
   "metadata": {},
   "outputs": [
    {
     "data": {
      "text/plain": [
       "<matplotlib.collections.PathCollection at 0x29ed70abfa0>"
      ]
     },
     "execution_count": 17,
     "metadata": {},
     "output_type": "execute_result"
    },
    {
     "data": {
      "image/png": "[encoded data removed]",
      "text/plain": [
       "<Figure size 700x700 with 1 Axes>"
      ]
     },
     "metadata": {},
     "output_type": "display_data"
    }
   ],
   "source": [
    "plt.figure(figsize=(7,7))\n",
    "plt.scatter(X_kpca[:, 0], X_kpca[:, 1])"
   ]
  },
  {
   "cell_type": "code",
   "execution_count": null,
   "metadata": {},
   "outputs": [
    {
     "data": {
      "text/html": [
       "<style>#sk-container-id-1 {color: black;background-color: white;}#sk-container-id-1 pre{padding: 0;}#sk-container-id-1 div.sk-toggleable {background-color: white;}#sk-container-id-1 label.sk-toggleable__label {cursor: pointer;display: block;width: 100%;margin-bottom: 0;padding: 0.3em;box-sizing: border-box;text-align: center;}#sk-container-id-1 label.sk-toggleable__label-arrow:before {content: \"▸\";float: left;margin-right: 0.25em;color: #696969;}#sk-container-id-1 label.sk-toggleable__label-arrow:hover:before {color: black;}#sk-container-id-1 div.sk-estimator:hover label.sk-toggleable__label-arrow:before {color: black;}#sk-container-id-1 div.sk-toggleable__content {max-height: 0;max-width: 0;overflow: hidden;text-align: left;background-color: #f0f8ff;}#sk-container-id-1 div.sk-toggleable__content pre {margin: 0.2em;color: black;border-radius: 0.25em;background-color: #f0f8ff;}#sk-container-id-1 input.sk-toggleable__control:checked~div.sk-toggleable__content {max-height: 200px;max-width: 100%;overflow: auto;}#sk-container-id-1 input.sk-toggleable__control:checked~label.sk-toggleable__label-arrow:before {content: \"▾\";}#sk-container-id-1 div.sk-estimator input.sk-toggleable__control:checked~label.sk-toggleable__label {background-color: #d4ebff;}#sk-container-id-1 div.sk-label input.sk-toggleable__control:checked~label.sk-toggleable__label {background-color: #d4ebff;}#sk-container-id-1 input.sk-hidden--visually {border: 0;clip: rect(1px 1px 1px 1px);clip: rect(1px, 1px, 1px, 1px);height: 1px;margin: -1px;overflow: hidden;padding: 0;position: absolute;width: 1px;}#sk-container-id-1 div.sk-estimator {font-family: monospace;background-color: #f0f8ff;border: 1px dotted black;border-radius: 0.25em;box-sizing: border-box;margin-bottom: 0.5em;}#sk-container-id-1 div.sk-estimator:hover {background-color: #d4ebff;}#sk-container-id-1 div.sk-parallel-item::after {content: \"\";width: 100%;border-bottom: 1px solid gray;flex-grow: 1;}#sk-container-id-1 div.sk-label:hover label.sk-toggleable__label {background-color: #d4ebff;}#sk-container-id-1 div.sk-serial::before {content: \"\";position: absolute;border-left: 1px solid gray;box-sizing: border-box;top: 0;bottom: 0;left: 50%;z-index: 0;}#sk-container-id-1 div.sk-serial {display: flex;flex-direction: column;align-items: center;background-color: white;padding-right: 0.2em;padding-left: 0.2em;position: relative;}#sk-container-id-1 div.sk-item {position: relative;z-index: 1;}#sk-container-id-1 div.sk-parallel {display: flex;align-items: stretch;justify-content: center;background-color: white;position: relative;}#sk-container-id-1 div.sk-item::before, #sk-container-id-1 div.sk-parallel-item::before {content: \"\";position: absolute;border-left: 1px solid gray;box-sizing: border-box;top: 0;bottom: 0;left: 50%;z-index: -1;}#sk-container-id-1 div.sk-parallel-item {display: flex;flex-direction: column;z-index: 1;position: relative;background-color: white;}#sk-container-id-1 div.sk-parallel-item:first-child::after {align-self: flex-end;width: 50%;}#sk-container-id-1 div.sk-parallel-item:last-child::after {align-self: flex-start;width: 50%;}#sk-container-id-1 div.sk-parallel-item:only-child::after {width: 0;}#sk-container-id-1 div.sk-dashed-wrapped {border: 1px dashed gray;margin: 0 0.4em 0.5em 0.4em;box-sizing: border-box;padding-bottom: 0.4em;background-color: white;}#sk-container-id-1 div.sk-label label {font-family: monospace;font-weight: bold;display: inline-block;line-height: 1.2em;}#sk-container-id-1 div.sk-label-container {text-align: center;}#sk-container-id-1 div.sk-container {/* jupyter's `normalize.less` sets `[hidden] { display: none; }` but bootstrap.min.css set `[hidden] { display: none !important; }` so we also need the `!important` here to be able to override the default hidden behavior on the sphinx rendered scikit-learn.org. See: https://github.com/scikit-learn/scikit-learn/issues/21755 */display: inline-block !important;position: relative;}#sk-container-id-1 div.sk-text-repr-fallback {display: none;}</style><div id=\"sk-container-id-1\" class=\"sk-top-container\"><div class=\"sk-text-repr-fallback\"><pre>LinearDiscriminantAnalysis()</pre><b>In a Jupyter environment, please rerun this cell to show the HTML representation or trust the notebook. <br />On GitHub, the HTML representation is unable to render, please try loading this page with nbviewer.org.</b></div><div class=\"sk-container\" hidden><div class=\"sk-item\"><div class=\"sk-estimator sk-toggleable\"><input class=\"sk-toggleable__control sk-hidden--visually\" id=\"sk-estimator-id-1\" type=\"checkbox\" checked><label for=\"sk-estimator-id-1\" class=\"sk-toggleable__label sk-toggleable__label-arrow\">LinearDiscriminantAnalysis</label><div class=\"sk-toggleable__content\"><pre>LinearDiscriminantAnalysis()</pre></div></div></div></div></div>"
      ],
      "text/plain": [
       "LinearDiscriminantAnalysis()"
      ]
     },
     "execution_count": 18,
     "metadata": {},
     "output_type": "execute_result"
    }
   ],
   "source": [
    "from sklearn.discriminant_analysis import LinearDiscriminantAnalysis\n",
    "clf = LinearDiscriminantAnalysis()\n",
    "clf.fit(X, y)\n"
   ]
  },
  {
   "cell_type": "code",
   "execution_count": 26,
   "metadata": {},
   "outputs": [
    {
     "data": {
      "text/plain": [
       "<matplotlib.collections.PathCollection at 0x1f158536170>"
      ]
     },
     "execution_count": 26,
     "metadata": {},
     "output_type": "execute_result"
    },
    {
     "data": {
      "image/png": "[encoded data removed]",
      "text/plain": [
       "<Figure size 640x480 with 1 Axes>"
      ]
     },
     "metadata": {},
     "output_type": "display_data"
    }
   ],
   "source": [
    "from sklearn.discriminant_analysis import LinearDiscriminantAnalysis\n",
    "lda = LinearDiscriminantAnalysis(n_components=2)\n",
    "lda.fit(X, y)\n",
    "a = lda.transform(X)\n",
    "plt.scatter(a[:, 0], a[:, 1])"
   ]
  },
  {
   "cell_type": "code",
   "execution_count": 27,
   "metadata": {},
   "outputs": [
    {
     "data": {
      "text/plain": [
       "array([[ -1.53119919,  -4.37604348,   4.69566531,   3.06258539],\n",
       "       [ -4.78355927,  -7.7632737 ,  12.25075935,  17.7074692 ],\n",
       "       [  6.31475846,  12.13931718, -16.94642465, -20.77005459]])"
      ]
     },
     "execution_count": 27,
     "metadata": {},
     "output_type": "execute_result"
    }
   ],
   "source": [
    "lda.coef_"
   ]
  }
 ],
 "metadata": {
  "kernelspec": {
   "display_name": "Python 3",
   "language": "python",
   "name": "python3"
  },
  "language_info": {
   "codemirror_mode": {
    "name": "ipython",
    "version": 3
   },
   "file_extension": ".py",
   "mimetype": "text/x-python",
   "name": "python",
   "nbconvert_exporter": "python",
   "pygments_lexer": "ipython3",
   "version": "3.10.11"
  },
  "orig_nbformat": 4
 },
 "nbformat": 4,
 "nbformat_minor": 2
}
